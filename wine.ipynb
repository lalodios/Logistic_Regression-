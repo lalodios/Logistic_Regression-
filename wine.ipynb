{
  "cells": [
    {
      "cell_type": "markdown",
      "source": [
        "# Introduction \n",
        "\n",
        "The purpose of this task is to introduce us the Logistic Regression. Our aim is to understand how to use Logistic Regression for clasiffication when we have a binary response variable or a  multiclass response variable\n",
        "\n",
        "We are going to use one dataset from Machine Learning Repository \n",
        "(https://archive.ics.uci.edu/ml/index.php). You can find the dataset in the link below. https://archive.ics.uci.edu/ml/datasets/wine. \n",
        "\n",
        "Specifically there are two datasets one for the red wines and one the white wines, but we are going to use only the dataset from the red wines as the purpose of this essay is to understand better the logistic regression and how we can apply it for clasiffication. The proper analysis that someone can do is to do a statistical analysis for the two datasets (red wines and white wines) separately and then compare the results and extract some deduction about the quality of wines.\n",
        "\n",
        "These datasets can be viewed as classification or regression tasks. The classes \n",
        "are ordered and not balanced (e.g. there are many more normal wines than excellent or poor ones). Outlier detection algorithms could be used to detect the few excellent or poor wines. Also, we are not sure if all input variables are relevant. So it could be interesting to test feature selection methods.\n",
        "\n",
        "Citation Request:\n",
        "\n",
        "Please include this citation if you plan to use this database:\n",
        "\n",
        "P. Cortez, A. Cerdeira, F. Almeida, T. Matos and J. Reis.Modeling wine preferences by data mining from physicochemical properties.  In Decision Support Systems, Elsevier, 47(4):547-553, 2009.\n",
        "\n",
        "(https://archive.ics.uci.edu/ml/datasets/wine+Quality)\n",
        "\n",
        "(https://www.vinhoverde.pt/en/)"
      ],
      "metadata": {
        "id": "T8MF61QZxzdu"
      }
    },
    {
      "cell_type": "markdown",
      "source": [
        "# Summary\n",
        "\n",
        " The purpose of this essay is to build a model that can predict whether the quality of red wine is good or bad. As we are going to see later on the response variable which we want to predict is quality.\n",
        "  \n",
        "  We will deal with this query with two different approaches:\n",
        "\n",
        "1.   We face the response variable as a multiclass.\n",
        "2.   We face the response variable as a binary.\n",
        "\n",
        "In first case we are going to use a multiclass logistic regression and in the second one the logistic regression.\n",
        "\n"
      ],
      "metadata": {
        "id": "DEWq0Uos7ibg"
      }
    },
    {
      "cell_type": "markdown",
      "source": [
        "# Chapter 1 Insert and explore the dataset"
      ],
      "metadata": {
        "id": "S35dvLmSDdXz"
      }
    },
    {
      "cell_type": "markdown",
      "source": [
        "\n",
        "\n",
        "## 1.1 Import libraries\n",
        " First thing first, we have to upload some necessary libraries to insert our data and after that to visualise the main information about it."
      ],
      "metadata": {
        "id": "St6V_Wm76bTJ"
      }
    },
    {
      "cell_type": "code",
      "execution_count": null,
      "metadata": {
        "id": "VYNhwD_5xBs0"
      },
      "outputs": [],
      "source": [
        "# Load packages and check versions\n",
        "import sys\n",
        "import numpy as np\n",
        "import pandas as pd\n",
        "import matplotlib as mpl\n",
        "import sklearn\n",
        "from google.colab import drive\n",
        "drive.mount('/content/gdrive')"
      ]
    },
    {
      "cell_type": "code",
      "execution_count": 3,
      "metadata": {
        "id": "Tnd-621IxPiQ"
      },
      "outputs": [],
      "source": [
        "df=pd.read_excel(\"/content/gdrive/MyDrive/wine/winequality-red_telos.xlsx\")"
      ]
    },
    {
      "cell_type": "markdown",
      "source": [
        " ## 1.2  Descriptive statistics \n",
        " As we can see all the variables are numbers."
      ],
      "metadata": {
        "id": "c5L-hIN17RNY"
      }
    },
    {
      "cell_type": "code",
      "execution_count": null,
      "metadata": {
        "id": "o4GsDIeExZ08"
      },
      "outputs": [],
      "source": [
        "\n",
        "df.shape\n",
        "df.info()"
      ]
    },
    {
      "cell_type": "markdown",
      "source": [
        "In sequence we have to check if we have any Na values."
      ],
      "metadata": {
        "id": "AqT9q57z83Qz"
      }
    },
    {
      "cell_type": "code",
      "execution_count": null,
      "metadata": {
        "id": "zM4XwW4FwdG5"
      },
      "outputs": [],
      "source": [
        "#We dont have na values \n",
        "df.isnull().sum()"
      ]
    },
    {
      "cell_type": "markdown",
      "source": [
        "  \n",
        "  Since it is not necessary to do data cleaning we are going to visualise the distribution of each variable. We need to upload the widgets library to make the plots interactive.\n",
        "  \n",
        "  The aim of the descriptive statistic is to identify whether a variable has a outliers or not and how it's values are distributed.\n",
        " "
      ],
      "metadata": {
        "id": "YRZ13wpR-oGw"
      }
    },
    {
      "cell_type": "code",
      "source": [
        "import matplotlib.pyplot as plt\n",
        "import seaborn as sns\n",
        "sns.set_style(\"whitegrid\")\n",
        "\n",
        "from IPython.display import IFrame\n",
        "documentation = IFrame(src='https://ipywidgets.readthedocs.io/en/latest/examples/Widget%20List.html', \n",
        "                       width=1000, \n",
        "                       height=400)\n",
        "display(documentation)\n",
        "\n",
        "import ipywidgets"
      ],
      "metadata": {
        "id": "GXmOC67y_Nbo"
      },
      "execution_count": null,
      "outputs": []
    },
    {
      "cell_type": "code",
      "source": [
        "@ipywidgets.interact\n",
        "def plot(col=df.columns):                                              # numerical variable univariate plot\n",
        "    f, ax = plt.subplots(figsize=(7, 3))\n",
        "    ax = sns.distplot(df[col])                                         # visualize the distribution\n",
        "    plt.show();\n",
        "    ax = sns.boxplot(x=df[col])                                        # detect outliers\n",
        "    plt.show();"
      ],
      "metadata": {
        "id": "I4U29ULG9ltI"
      },
      "execution_count": null,
      "outputs": []
    },
    {
      "cell_type": "markdown",
      "metadata": {
        "id": "k4h97OBmUX9a"
      },
      "source": [
        " ## 1.3 Correlation, F-statistic\n",
        " Before we proceed to build a model we have to chech if we have multicolinearity among the variables. Multicolinearity is when two variables are highly correlated. \n",
        "\n",
        " We will apply a heatmap to see which variables are correllated"
      ]
    },
    {
      "cell_type": "code",
      "execution_count": null,
      "metadata": {
        "id": "tP55Cyw5Uoli"
      },
      "outputs": [],
      "source": [
        "corr=df.corr()\n",
        "corr.iloc[0:5,0:5]\n",
        "#five rows an d five columns"
      ]
    },
    {
      "cell_type": "code",
      "execution_count": null,
      "metadata": {
        "id": "KyYPQR29T4BQ"
      },
      "outputs": [],
      "source": [
        "\n",
        "f, ax = plt.subplots(figsize=(11, 9))\n",
        "sns.heatmap(corr,\n",
        "xticklabels=corr.columns.values,\n",
        "yticklabels=corr.columns.values,\n",
        "center=0)"
      ]
    },
    {
      "cell_type": "markdown",
      "metadata": {
        "id": "oOsmv8NfGMIh"
      },
      "source": [
        "From the correlation matric above we didn't see any highly correlations among the variables. Now we have to choose which of them is necessary to keep for further analysis. To extract the more important variables we will make advantage of F-test statistics.\n"
      ]
    },
    {
      "cell_type": "code",
      "execution_count": 21,
      "metadata": {
        "id": "gK28KtkFWH_2"
      },
      "outputs": [],
      "source": [
        "# we write all the variables in to a list\n",
        "features_responses=df.columns.tolist()"
      ]
    },
    {
      "cell_type": "code",
      "execution_count": 20,
      "metadata": {
        "id": "jEagMMWsVcQn",
        "colab": {
          "base_uri": "https://localhost:8080/",
          "height": 0
        },
        "outputId": "c1b6bca5-e2f0-4804-9cc2-0a9bee86f20c"
      },
      "outputs": [
        {
          "output_type": "stream",
          "name": "stdout",
          "text": [
            "(1599, 11) (1599,)\n"
          ]
        }
      ],
      "source": [
        "X=df.iloc[:,:-1] # In this way, we see  is all the variables\n",
        "y=df.iloc[:,-1] # In this way, we see  the response variable\n",
        "print(X.shape, y.shape)"
      ]
    },
    {
      "cell_type": "code",
      "execution_count": null,
      "metadata": {
        "id": "k6dCAJm8VpUA"
      },
      "outputs": [],
      "source": [
        "from sklearn.feature_selection import f_classif\n",
        "\n",
        "[f_stat, f_p_value]=f_classif(X,y)\n",
        "\n",
        "# we define our dataframe\n",
        "\n",
        "f_test_df = pd.DataFrame({'Feature':features_responses[:-1],'F statistic':f_stat,'p value':f_p_value})\n",
        "\n",
        "f_test_df.sort_values('p value')\n",
        "\n",
        "# from the below matrix we can obtain the most important variables \n",
        "# important variables are those we are going to use in building models\n"
      ]
    },
    {
      "cell_type": "code",
      "execution_count": 23,
      "metadata": {
        "id": "lD5oDeFAZzwv"
      },
      "outputs": [],
      "source": [
        "# We take the first 8 more important variables\n",
        "df.columns\n",
        "variable=df[[\"total_sulfur_dioxide\",\"sulphates\",\"citric_acid\",\"volatile_acidity\",\"fixed_acidity\",\"chlorides\",\"free sulfur_dioxide\",\"pH\"]]"
      ]
    },
    {
      "cell_type": "code",
      "execution_count": null,
      "metadata": {
        "id": "nGx1dr6gwudO"
      },
      "outputs": [],
      "source": [
        "\n",
        "df.describe\n",
        "df[\"quality\"]\n",
        "df[\"quality\"].nunique()\n",
        "\n",
        "# response variable has 6 categories\n",
        "df[\"quality\"].value_counts()"
      ]
    },
    {
      "cell_type": "markdown",
      "source": [
        "## 1.4 Logistic regression basic tools"
      ],
      "metadata": {
        "id": "zkmvFZkaDiXJ"
      }
    },
    {
      "cell_type": "markdown",
      "metadata": {
        "id": "AoieBTUu60IL"
      },
      "source": [
        "The LogisticRegression class can be configured for multinomial logistic regression by setting the “multi_class” argument to “multinomial” and the “solver” argument to a solver that supports multinomial logistic regression, such as “lbfgs“"
      ]
    },
    {
      "cell_type": "code",
      "execution_count": 26,
      "metadata": {
        "id": "iHzr5aWD61Fl"
      },
      "outputs": [],
      "source": [
        "\n",
        "from sklearn.linear_model import LogisticRegression"
      ]
    },
    {
      "cell_type": "code",
      "execution_count": 27,
      "metadata": {
        "id": "ErrwmgfS7Dtj"
      },
      "outputs": [],
      "source": [
        "# define the multinomial logistic regression model\n",
        "model = LogisticRegression(multi_class='multinomial', solver='lbfgs')"
      ]
    },
    {
      "cell_type": "markdown",
      "metadata": {
        "id": "GC4zXMiK7mqR"
      },
      "source": [
        "The multinomial logistic regression model will be fit using cross-entropy loss and will predict the integer value for each integer encoded class label."
      ]
    },
    {
      "cell_type": "code",
      "execution_count": 28,
      "metadata": {
        "id": "2bbi-wPI7nZS"
      },
      "outputs": [],
      "source": [
        "\n",
        "# evaluate multinomial logistic regression model\n",
        "from numpy import mean\n",
        "from numpy import std\n",
        "from sklearn.datasets import make_classification\n",
        "from sklearn.model_selection import cross_val_score\n",
        "from sklearn.model_selection import RepeatedStratifiedKFold\n",
        "from sklearn.linear_model import LogisticRegression"
      ]
    },
    {
      "cell_type": "code",
      "execution_count": null,
      "metadata": {
        "id": "WLfc_I048cdu"
      },
      "outputs": [],
      "source": [
        "df.columns"
      ]
    },
    {
      "cell_type": "markdown",
      "metadata": {
        "id": "0tkauuQnNuX-"
      },
      "source": [
        "##1.5 Methodology\n",
        "we are going to apply the follow methodology.\n",
        "\n",
        "1.   Before we proceed to further analysis we have to scale our data.\n",
        "2.   We will train our model.\n",
        "3.   we will evaluate it.\n",
        "4.   We visuazile the ROC CURVE \n",
        "\n",
        "1) Scale τα δεδομένα μας\n",
        "2) εκπαίδευση του μοντέλου μας\n",
        "3) Roc Auc \n",
        "4) threshold\n",
        "5) oprimization με εύρεση την υπερπαραμετρο C"
      ]
    },
    {
      "cell_type": "code",
      "execution_count": 72,
      "metadata": {
        "id": "6wQAqwM8OwJK",
        "colab": {
          "base_uri": "https://localhost:8080/",
          "height": 281
        },
        "outputId": "b4362b18-d3d9-4bd9-c67a-5c4f61b2e168"
      },
      "outputs": [
        {
          "output_type": "display_data",
          "data": {
            "text/plain": [
              "<Figure size 432x288 with 9 Axes>"
            ],
            "image/png": "[encoded data removed]"
          },
          "metadata": {}
        }
      ],
      "source": [
        "#we are need the min max sceler to scale our data\n",
        "from sklearn.linear_model import LogisticRegression\n",
        "from sklearn.preprocessing import MinMaxScaler\n",
        "min_max_sc = MinMaxScaler()\n",
        "\n",
        "\n",
        "#scale_data=df.values[:,:-1]\n",
        "scale_data=df[[\"total_sulfur_dioxide\",\"sulphates\",\"citric_acid\",\"volatile_acidity\",\"fixed_acidity\",\"chlorides\",\"free sulfur_dioxide\",\"pH\"]].values\n",
        "\n",
        "\n",
        "#έχουμε κανει τα δεδομένα μας scale\n",
        "scale_data_1=min_max_sc.fit_transform(scale_data)\n",
        "\n",
        "scale_data_1=pd.DataFrame(scale_data_1)\n",
        "scale_data_1.hist()\n"
      ]
    },
    {
      "cell_type": "code",
      "execution_count": 37,
      "metadata": {
        "id": "dhDQJ7rKXyoO"
      },
      "outputs": [],
      "source": [
        "\n",
        "from sklearn.preprocessing import LabelEncoder\n",
        "from sklearn.preprocessing import MinMaxScaler\n",
        "from sklearn.pipeline import Pipeline\n",
        "from matplotlib import pyplot\n"
      ]
    },
    {
      "cell_type": "code",
      "source": [
        "scale_data_1"
      ],
      "metadata": {
        "id": "zAYqWJ-CHLhx"
      },
      "execution_count": null,
      "outputs": []
    },
    {
      "cell_type": "markdown",
      "metadata": {
        "id": "6ALZq4Mtczp-"
      },
      "source": [
        " We split the data into train and test set\n",
        " \n",
        " 2) βήμα χωρίζουμε το σύνολο σε train και σε test set"
      ]
    },
    {
      "cell_type": "markdown",
      "metadata": {
        "id": "QDkAZHBDlZwt"
      },
      "source": [
        "###  1.5.1 OvR methodoly \n",
        "One versus the rest\n",
        "\n"
      ]
    },
    {
      "cell_type": "markdown",
      "source": [
        "# Data preprocessing"
      ],
      "metadata": {
        "id": "ZMbLeDDUBiiz"
      }
    },
    {
      "cell_type": "code",
      "source": [
        "from sklearn.model_selection import train_test_split\n",
        "X=scale_data_1\n",
        "y=df[\"quality\"]\n",
        "X_train, X_test, Y_train, Y_test = train_test_split(X, y, test_size=0.2, random_state=24)"
      ],
      "metadata": {
        "id": "Ja3ViWrBCSTn"
      },
      "execution_count": 73,
      "outputs": []
    },
    {
      "cell_type": "markdown",
      "source": [
        "### 1.5.2  Laber encoding στην  y "
      ],
      "metadata": {
        "id": "cvBdOppQCytJ"
      }
    },
    {
      "cell_type": "code",
      "source": [
        "#Lets encode target labels (y) with values between 0 and n_classes-1.\n",
        "#We will use the LabelEncoder to do this. \n",
        "from sklearn.preprocessing import LabelEncoder\n",
        "label_encoder=LabelEncoder()\n",
        "label_encoder.fit(y)\n",
        "y=label_encoder.transform(y)\n",
        "classes=label_encoder.classes_"
      ],
      "metadata": {
        "id": "kwTyFcpvDNFP"
      },
      "execution_count": 74,
      "outputs": []
    },
    {
      "cell_type": "markdown",
      "source": [
        "### 1.5.3 Split data in train and test set"
      ],
      "metadata": {
        "id": "oVMpscy3DQ4m"
      }
    },
    {
      "cell_type": "code",
      "source": [
        "from sklearn.model_selection import train_test_split\n",
        "X_train,X_test,y_train,y_test=train_test_split(X,y,test_size=0.2)"
      ],
      "metadata": {
        "id": "P1Z1kWUXDWqn"
      },
      "execution_count": 75,
      "outputs": []
    },
    {
      "cell_type": "markdown",
      "source": [
        "### 1.5.4 Normalize the data"
      ],
      "metadata": {
        "id": "OAr5XKtpDeKH"
      }
    },
    {
      "cell_type": "code",
      "source": [
        "from sklearn.preprocessing import MinMaxScaler\n",
        "min_max_scaler=MinMaxScaler()\n",
        "X_train_norm=min_max_scaler.fit_transform(X_train)\n",
        "X_test_norm=min_max_scaler.fit_transform(X_test)"
      ],
      "metadata": {
        "id": "QVFAzM4WDgE_"
      },
      "execution_count": 76,
      "outputs": []
    },
    {
      "cell_type": "markdown",
      "source": [
        "###  1.5.5. Classification"
      ],
      "metadata": {
        "id": "NTq3yBbLDk0P"
      }
    },
    {
      "cell_type": "code",
      "source": [
        "from sklearn.multiclass import OneVsRestClassifier\n",
        "from sklearn.ensemble import RandomForestClassifier\n",
        "from sklearn.metrics import roc_curve,auc"
      ],
      "metadata": {
        "id": "IwtXmveIDmh5"
      },
      "execution_count": 77,
      "outputs": []
    },
    {
      "cell_type": "markdown",
      "source": [
        "Training Phase\n",
        "This will be done by parsing the training set to a classifier or classifiers Because we are dealing with 3 classes, this becomes a multiclass classification problem. We therefore us the One-vs-the-rest strategy.\\ This strategy involves fitting one classifier per class. For each classifier, the class is fitted against all the other classes. Here, we use the Random Forest Classifier"
      ],
      "metadata": {
        "id": "NGd_MjvXDvB0"
      }
    },
    {
      "cell_type": "markdown",
      "source": [
        "# Plot Auc ROC curve"
      ],
      "metadata": {
        "id": "Jxin37pYDzaK"
      }
    },
    {
      "cell_type": "markdown",
      "source": [
        "### 1.5.6 Logistic regression OvR\n"
      ],
      "metadata": {
        "id": "vw9XD-q9FKFP"
      }
    },
    {
      "cell_type": "code",
      "source": [
        "from sklearn.multiclass import OneVsRestClassifier\n",
        "from sklearn.ensemble import RandomForestClassifier\n",
        "from sklearn.metrics import roc_curve,auc\n",
        "from sklearn.linear_model import LogisticRegression"
      ],
      "metadata": {
        "id": "v46AKNHGFQNy"
      },
      "execution_count": 80,
      "outputs": []
    },
    {
      "cell_type": "code",
      "source": [
        "#Logistic Regression multiclass clasifier\n",
        "#because we are dealing with multiclass data and so, the one versus rest strategy is used.\n",
        "#learn to predict each class against the other.\n",
        "\n",
        "RF=OneVsRestClassifier(LogisticRegression(multi_class=\"ovr\"))\n",
        "RF.fit(X_train_norm,y_train)\n",
        "y_pred =RF.predict(X_test_norm)\n",
        "pred_prob = RF.predict_proba(X_test_norm)"
      ],
      "metadata": {
        "id": "6pC34q48FtGh"
      },
      "execution_count": 81,
      "outputs": []
    },
    {
      "cell_type": "code",
      "source": [
        "from sklearn.preprocessing import label_binarize\n",
        "#binarize the y_values\n",
        "\n",
        "y_test_binarized=label_binarize(y_test,classes=np.unique(y_test))\n",
        "\n",
        "# roc curve for classes\n",
        "fpr = {}\n",
        "tpr = {}\n",
        "thresh ={}\n",
        "roc_auc = dict()\n",
        "\n",
        "n_class = classes.shape[0]\n",
        "\n",
        "for i in range(n_class):    \n",
        "    fpr[i], tpr[i], thresh[i] = roc_curve(y_test_binarized[:,i], pred_prob[:,i])\n",
        "    roc_auc[i] = auc(fpr[i], tpr[i])\n",
        "    \n",
        "    # plotting    \n",
        "    plt.plot(fpr[i], tpr[i], linestyle='--', \n",
        "             label='%s vs Rest (AUC=%0.2f)'%(classes[i],roc_auc[i]))\n",
        "\n",
        "plt.plot([0,1],[0,1],'b--')\n",
        "plt.xlim([0,1])\n",
        "plt.ylim([0,1.05])\n",
        "plt.title('Multiclass ROC curve')\n",
        "plt.xlabel('False Positive Rate')\n",
        "plt.ylabel('True Positive rate')\n",
        "plt.legend(loc='lower right')\n",
        "plt.show()"
      ],
      "metadata": {
        "id": "b6WGhV9BG8rR",
        "colab": {
          "base_uri": "https://localhost:8080/",
          "height": 295
        },
        "outputId": "f55e6770-8f74-49b5-d9fd-1adae9ce71ad"
      },
      "execution_count": 82,
      "outputs": [
        {
          "output_type": "display_data",
          "data": {
            "text/plain": [
              "<Figure size 432x288 with 1 Axes>"
            ],
            "image/png": "[encoded data removed]"
          },
          "metadata": {}
        }
      ]
    },
    {
      "cell_type": "markdown",
      "source": [
        "# Chaprer 2 \n",
        "\n",
        " Now we gonna do the same methodology for the binary problem "
      ],
      "metadata": {
        "id": "k6rG2GaqH4lv"
      }
    },
    {
      "cell_type": "markdown",
      "metadata": {
        "id": "_WBttyY4gZ01"
      },
      "source": [
        "## 2.1 Binary\n",
        "We create a dummy variable from the quality so if the quality of wine is 6 and above the quality is considerated as good otherwise is considerated as bad\n",
        " "
      ]
    },
    {
      "cell_type": "code",
      "source": [
        "#df[\"quality\"].unique_values()\n",
        "np.unique(df[\"quality\"])"
      ],
      "metadata": {
        "colab": {
          "base_uri": "https://localhost:8080/",
          "height": 0
        },
        "id": "UoC_FCX-NLQo",
        "outputId": "c118e7f3-6c51-4c70-a706-c13a45fc7872"
      },
      "execution_count": 49,
      "outputs": [
        {
          "output_type": "execute_result",
          "data": {
            "text/plain": [
              "array([3, 4, 5, 6, 7, 8])"
            ]
          },
          "metadata": {},
          "execution_count": 49
        }
      ]
    },
    {
      "cell_type": "code",
      "source": [
        "dummy = np.where((df['quality'] == 4) | (df['quality'] == 5) | (df['quality'] == 3) ,0,1)\n"
      ],
      "metadata": {
        "id": "q74txWKsT6ZU"
      },
      "execution_count": 50,
      "outputs": []
    },
    {
      "cell_type": "code",
      "source": [
        "#print(dummy, type)\n",
        "np.unique(dummy)\n",
        "#print(dummy)\n",
        "dummy=pd.DataFrame(dummy)"
      ],
      "metadata": {
        "id": "ooaI9LldUeGo"
      },
      "execution_count": 51,
      "outputs": []
    },
    {
      "cell_type": "code",
      "source": [
        "df_1=pd.concat([df,dummy],axis=1)\n",
        "df_1=pd.DataFrame(df_1)\n"
      ],
      "metadata": {
        "id": "TG56wwCeXJVY"
      },
      "execution_count": 52,
      "outputs": []
    },
    {
      "cell_type": "code",
      "source": [
        "data_new1 = df_1.copy()                                     # Create copy of DataFrame\n",
        "data_new1.columns = ['fixed_acidity','volatile_acidity','citric_acid','residual_sugar',\n",
        "                     'chlorides','free sulfur_dioxide','total_sulfur_dioxide','density','pH','sulphates','alcohol','quality',\"dummy\"]  \n",
        "\n",
        "data_new1.columns"
      ],
      "metadata": {
        "id": "EWs8vLK1XuM8",
        "colab": {
          "base_uri": "https://localhost:8080/",
          "height": 0
        },
        "outputId": "1417b371-d542-4acd-fb7f-276320afe638"
      },
      "execution_count": 53,
      "outputs": [
        {
          "output_type": "execute_result",
          "data": {
            "text/plain": [
              "Index(['fixed_acidity', 'volatile_acidity', 'citric_acid', 'residual_sugar',\n",
              "       'chlorides', 'free sulfur_dioxide', 'total_sulfur_dioxide', 'density',\n",
              "       'pH', 'sulphates', 'alcohol', 'quality', 'dummy'],\n",
              "      dtype='object')"
            ]
          },
          "metadata": {},
          "execution_count": 53
        }
      ]
    },
    {
      "cell_type": "code",
      "source": [
        "data_new1.info()\n",
        "#print(data_new1, type)"
      ],
      "metadata": {
        "id": "i45mj9jnZhLF"
      },
      "execution_count": null,
      "outputs": []
    },
    {
      "cell_type": "markdown",
      "source": [
        "## 2.2  DATA PREPROCESSING"
      ],
      "metadata": {
        "id": "_vnuPry7adnE"
      }
    },
    {
      "cell_type": "code",
      "source": [
        "scale_data=data_new1[[\"total_sulfur_dioxide\",\"sulphates\",\"citric_acid\",\"volatile_acidity\",\"fixed_acidity\",\"chlorides\",\"free sulfur_dioxide\",\"pH\"]].values"
      ],
      "metadata": {
        "id": "oMc8c1rmbN6p"
      },
      "execution_count": 90,
      "outputs": []
    },
    {
      "cell_type": "code",
      "source": [
        "from sklearn.model_selection import train_test_split\n",
        "#X=scale_data_1[[\"total_sulfur_dioxide\",\"sulphates\",\"citric_acid\",\"volatile_acidity\",\"fixed_acidity\",\"chlorides\",\"free sulfur_dioxide\",\"pH\"]]\n",
        "X=scale_data[:, :-1]\n",
        "y=data_new1[\"dummy\"]"
      ],
      "metadata": {
        "id": "bFjDNPzmacva"
      },
      "execution_count": 91,
      "outputs": []
    },
    {
      "cell_type": "markdown",
      "source": [
        "## 2.3 Label preprocessing"
      ],
      "metadata": {
        "id": "Wti3M7SrbhJT"
      }
    },
    {
      "cell_type": "code",
      "source": [
        "#Lets encode target labels (y) with values between 0 and n_classes-1.\n",
        "#We will use the LabelEncoder to do this. \n",
        "from sklearn.preprocessing import LabelEncoder\n",
        "label_encoder=LabelEncoder()\n",
        "label_encoder.fit(y)\n",
        "y=label_encoder.transform(y)\n",
        "classes=label_encoder.classes_"
      ],
      "metadata": {
        "id": "4IeL99OMbj_t"
      },
      "execution_count": 92,
      "outputs": []
    },
    {
      "cell_type": "markdown",
      "source": [
        "## 2.4 Split the data"
      ],
      "metadata": {
        "id": "NLMW5rCUbo66"
      }
    },
    {
      "cell_type": "code",
      "source": [
        "from sklearn.model_selection import train_test_split\n",
        "X_train,X_test,y_train,y_test=train_test_split(X,y,test_size=0.2)"
      ],
      "metadata": {
        "id": "q0savDKsbqiU"
      },
      "execution_count": 93,
      "outputs": []
    },
    {
      "cell_type": "markdown",
      "source": [
        "## 2.5 Normalize the data"
      ],
      "metadata": {
        "id": "ipB8WIH_bvEE"
      }
    },
    {
      "cell_type": "code",
      "source": [
        "from sklearn.preprocessing import MinMaxScaler\n",
        "min_max_scaler=MinMaxScaler()\n",
        "X_train_norm=min_max_scaler.fit_transform(X_train)\n",
        "X_test_norm=min_max_scaler.fit_transform(X_test)"
      ],
      "metadata": {
        "id": "fOZyBrGxbwuL"
      },
      "execution_count": 94,
      "outputs": []
    },
    {
      "cell_type": "markdown",
      "source": [
        "## 2.6  Classification Logistic binary regression"
      ],
      "metadata": {
        "id": "cGev1rgNb5nr"
      }
    },
    {
      "cell_type": "code",
      "source": [
        "from sklearn.multiclass import OneVsRestClassifier\n",
        "from sklearn.ensemble import RandomForestClassifier\n",
        "from sklearn.metrics import roc_curve,auc\n",
        "from sklearn.linear_model import LogisticRegression"
      ],
      "metadata": {
        "id": "NlB3B5N-b8g3"
      },
      "execution_count": 95,
      "outputs": []
    },
    {
      "cell_type": "code",
      "source": [
        "#Random Forest Classifier\n",
        "#because we are dealing with multiclass data and so, the one versus rest strategy is used.\n",
        "#learn to predict each class against the other.\n",
        "\n",
        "RF=LogisticRegression()\n",
        "RF.fit(X_train_norm,y_train)\n",
        "y_pred =RF.predict(X_test_norm)\n",
        "y_pred_prob = RF.predict_proba(X_test_norm)"
      ],
      "metadata": {
        "id": "esK99M9UcBKK"
      },
      "execution_count": 96,
      "outputs": []
    },
    {
      "cell_type": "markdown",
      "source": [
        "## 2.7 Confussion Matrix"
      ],
      "metadata": {
        "id": "uweo2qojcRZh"
      }
    },
    {
      "cell_type": "code",
      "execution_count": 97,
      "metadata": {
        "id": "kJEaOmbuhyJ0",
        "colab": {
          "base_uri": "https://localhost:8080/",
          "height": 0
        },
        "outputId": "3d0cfdcb-f352-4a8d-fa00-cc1a5d1ac130"
      },
      "outputs": [
        {
          "output_type": "execute_result",
          "data": {
            "text/plain": [
              "array([[138,  16],\n",
              "       [ 87,  79]])"
            ]
          },
          "metadata": {},
          "execution_count": 97
        }
      ],
      "source": [
        "from sklearn import metrics\n",
        "#ta predicting propabilities\n",
        "\n",
        "y_pred_prob\n",
        "y_pred_prob[:,1]\n",
        "metrics.confusion_matrix(y_test,y_pred)"
      ]
    },
    {
      "cell_type": "markdown",
      "source": [
        "## 2.8  ROC AUC CURVE"
      ],
      "metadata": {
        "id": "TMEVoeD_dFxG"
      }
    },
    {
      "cell_type": "code",
      "execution_count": null,
      "metadata": {
        "id": "s4fshMtyiL8V"
      },
      "outputs": [],
      "source": [
        "pos_proba = y_pred_prob[:,1]\n",
        "pos_proba"
      ]
    },
    {
      "cell_type": "code",
      "execution_count": null,
      "metadata": {
        "id": "7U03bZxQiQEf"
      },
      "outputs": [],
      "source": [
        "#ypologizoyme to ROC AUC \n",
        "fpr, tpr, thresholds = metrics.roc_curve(y_test, pos_proba)\n",
        "\n",
        "plt.plot(fpr, tpr, '*-')\n",
        "plt.plot([0, 1], [0, 1], 'r--')\n",
        "plt.legend(['Logistic regression', 'Random chance'])\n",
        "plt.xlabel('FPR')\n",
        "plt.ylabel('TPR')\n",
        "plt.title('ROC curve')"
      ]
    },
    {
      "cell_type": "code",
      "source": [
        "thresholds\n",
        "# το accuracy\n",
        "metrics.roc_auc_score(y_test, pos_proba)"
      ],
      "metadata": {
        "colab": {
          "base_uri": "https://localhost:8080/",
          "height": 0
        },
        "id": "2FAtpkwad5tz",
        "outputId": "68d7a07c-0c8f-4806-c4c4-fdcf633b9393"
      },
      "execution_count": 100,
      "outputs": [
        {
          "output_type": "execute_result",
          "data": {
            "text/plain": [
              "0.7530902832107652"
            ]
          },
          "metadata": {},
          "execution_count": 100
        }
      ]
    },
    {
      "cell_type": "markdown",
      "source": [
        "## 2.9  Best threshold"
      ],
      "metadata": {
        "id": "sbA_2dvpePqK"
      }
    },
    {
      "cell_type": "code",
      "source": [
        "from numpy import sqrt\n",
        "from numpy import argmax\n",
        "from sklearn.datasets import make_classification\n",
        "from sklearn.linear_model import LogisticRegression\n",
        "from sklearn.model_selection import train_test_split\n",
        "from sklearn.metrics import roc_curve\n",
        "from matplotlib import pyplot\n",
        "# calculate the g-mean for each threshold\n",
        "gmeans = sqrt(tpr * (1-fpr))\n"
      ],
      "metadata": {
        "id": "2o23pQC4eAmN"
      },
      "execution_count": 101,
      "outputs": []
    },
    {
      "cell_type": "code",
      "source": [
        "# locate the index of the largest g-mean\n",
        "ix = argmax(gmeans)\n",
        "print('Best Threshold=%f, G-Mean=%.3f' % (thresholds[ix], gmeans[ix]))"
      ],
      "metadata": {
        "colab": {
          "base_uri": "https://localhost:8080/",
          "height": 0
        },
        "id": "87TTSziDeJcV",
        "outputId": "ef5aee3f-f0c8-4c79-93bf-892774ef154f"
      },
      "execution_count": 102,
      "outputs": [
        {
          "output_type": "stream",
          "name": "stdout",
          "text": [
            "Best Threshold=0.341446, G-Mean=0.682\n"
          ]
        }
      ]
    },
    {
      "cell_type": "code",
      "source": [
        "# plot the roc curve for the model\n",
        "pyplot.plot([0,1], [0,1], linestyle='--', label='No Skill')\n",
        "pyplot.plot(fpr, tpr, marker='.', label='Logistic')\n",
        "pyplot.scatter(fpr[ix], tpr[ix], marker='o', color='black', label='Best')\n",
        "# axis labels\n",
        "pyplot.xlabel('False Positive Rate')\n",
        "pyplot.ylabel('True Positive Rate')\n",
        "pyplot.legend()\n",
        "# show the plot\n",
        "pyplot.show()"
      ],
      "metadata": {
        "id": "UYjLEZnKeMLy"
      },
      "execution_count": null,
      "outputs": []
    },
    {
      "cell_type": "markdown",
      "source": [
        "# Chapter 3 Hyperparameter\n"
      ],
      "metadata": {
        "id": "L6-iEyAleZSy"
      }
    },
    {
      "cell_type": "markdown",
      "source": [
        "## 3.1 find the best value for C by hand"
      ],
      "metadata": {
        "id": "vwoD1fb-KcjK"
      }
    },
    {
      "cell_type": "code",
      "source": [
        "# tune regularization for multinomial logistic regression\n",
        "from numpy import mean\n",
        "from numpy import std\n",
        "from sklearn.datasets import make_classification\n",
        "from sklearn.model_selection import cross_val_score\n",
        "from sklearn.model_selection import RepeatedStratifiedKFold\n",
        "from sklearn.linear_model import LogisticRegression\n",
        "from matplotlib import pyplot\n"
      ],
      "metadata": {
        "id": "j0fs2exofffR"
      },
      "execution_count": 104,
      "outputs": []
    },
    {
      "cell_type": "code",
      "source": [
        "param_grid=[\n",
        "    {\"penalty\":[\"l1\",\"l2\",\"elasticnet\",\"none\"],\n",
        "    \"C\":np.logspace(-4,4,20) } ]"
      ],
      "metadata": {
        "id": "FfD2fm9hqchF"
      },
      "execution_count": 105,
      "outputs": []
    },
    {
      "cell_type": "code",
      "source": [
        "from sklearn.model_selection import GridSearchCV\n",
        "log_model=LogisticRegression()\n",
        "clf=GridSearchCV(log_model, param_grid=param_grid, cv=3, verbose=True, n_jobs=-1)"
      ],
      "metadata": {
        "id": "v0uCQR0kpcW-"
      },
      "execution_count": 106,
      "outputs": []
    },
    {
      "cell_type": "code",
      "source": [
        "X_train\n",
        "y_train"
      ],
      "metadata": {
        "id": "ibEJSKZnsFst",
        "colab": {
          "base_uri": "https://localhost:8080/",
          "height": 0
        },
        "outputId": "e5d03cd3-5cdc-4dc6-b0ac-b73cc0131271"
      },
      "execution_count": 107,
      "outputs": [
        {
          "output_type": "execute_result",
          "data": {
            "text/plain": [
              "array([1, 1, 1, ..., 0, 0, 1])"
            ]
          },
          "metadata": {},
          "execution_count": 107
        }
      ]
    },
    {
      "cell_type": "code",
      "source": [
        "best_clf=clf.fit(X_train,y_train)\n"
      ],
      "metadata": {
        "id": "cX3Bs4MQsCD9"
      },
      "execution_count": null,
      "outputs": []
    },
    {
      "cell_type": "code",
      "source": [
        "print(best_clf.best_estimator_)"
      ],
      "metadata": {
        "colab": {
          "base_uri": "https://localhost:8080/",
          "height": 0
        },
        "id": "UkVxlH0ysW0t",
        "outputId": "533751c5-f5ba-479a-88c4-d8ef381dc3c4"
      },
      "execution_count": 109,
      "outputs": [
        {
          "output_type": "stream",
          "name": "stdout",
          "text": [
            "LogisticRegression(C=29.763514416313132)\n"
          ]
        }
      ]
    },
    {
      "cell_type": "code",
      "source": [
        "best_clf.score(X_test,y_test)"
      ],
      "metadata": {
        "colab": {
          "base_uri": "https://localhost:8080/",
          "height": 0
        },
        "id": "RAPAgz-ytN9F",
        "outputId": "a567bdec-1fb7-4831-8f79-af550bf3bc04"
      },
      "execution_count": 110,
      "outputs": [
        {
          "output_type": "execute_result",
          "data": {
            "text/plain": [
              "0.6625"
            ]
          },
          "metadata": {},
          "execution_count": 110
        }
      ]
    },
    {
      "cell_type": "code",
      "source": [
        "log_model.fit(X_train,y_train)"
      ],
      "metadata": {
        "id": "e828NRaOvdxt"
      },
      "execution_count": null,
      "outputs": []
    },
    {
      "cell_type": "code",
      "source": [
        "pred_prob_t=log_model.predict_proba(X_test)"
      ],
      "metadata": {
        "id": "DnBWbm4Ft4zA"
      },
      "execution_count": 112,
      "outputs": []
    },
    {
      "cell_type": "code",
      "source": [
        "from sklearn.metrics import log_loss\n",
        "C_list=np.geomspace(1e-1,1e+1,num=20)\n",
        "CA=[]\n",
        "Logarithimic_Loss = []\n",
        "\n",
        "for c in C_list:\n",
        "  log_reg=LogisticRegression(random_state=10,solver=\"lbfgs\",C=c)\n",
        "  log_reg.fit(X_train,y_train)\n",
        "  score=log_reg.score(X_test,y_test)\n",
        "  CA.append(score)\n",
        "  print(\"the ca of C is {} and {}\".format(c,score))\n",
        "  log_loss2=log_loss(y_test,pred_prob_t)\n",
        "  Logarithimic_Loss.append(log_loss2)\n",
        "  print(\" the logarithimic_Loss of C {} is {}\".format(c, log_loss2))\n",
        "  #print(\"\")"
      ],
      "metadata": {
        "id": "_ymsfXw4ya2u"
      },
      "execution_count": null,
      "outputs": []
    },
    {
      "cell_type": "code",
      "source": [
        "CA\n",
        "data=np.array(CA).reshape(20,)\n",
        "data_1=np.array(Logarithimic_Loss).reshape(20,)"
      ],
      "metadata": {
        "id": "OXYomHSO0iSX"
      },
      "execution_count": 114,
      "outputs": []
    },
    {
      "cell_type": "code",
      "source": [
        "df=zip(C_list,data,data_1)\n",
        "df"
      ],
      "metadata": {
        "colab": {
          "base_uri": "https://localhost:8080/",
          "height": 0
        },
        "id": "K9J0GukC0-3n",
        "outputId": "d5600ca7-f37b-4b99-b7bf-cde89e8fc6e1"
      },
      "execution_count": 115,
      "outputs": [
        {
          "output_type": "execute_result",
          "data": {
            "text/plain": [
              "<zip at 0x7fa71ed9d8c0>"
            ]
          },
          "metadata": {},
          "execution_count": 115
        }
      ]
    },
    {
      "cell_type": "code",
      "source": [
        "df_final=pd.DataFrame(df,columns=[\"C_list\",\"CA\",\"Logarithimic_Loss\"])\n",
        "df_final.head(20)"
      ],
      "metadata": {
        "id": "A_KZBrlm1JtW"
      },
      "execution_count": null,
      "outputs": []
    },
    {
      "cell_type": "code",
      "source": [
        "df_final.sort_values(\"Logarithimic_Loss\",ascending=True)\n",
        "# h kalyterh timh gia to C einai to 0.1"
      ],
      "metadata": {
        "id": "cWz4UeAq2g5f"
      },
      "execution_count": null,
      "outputs": []
    },
    {
      "cell_type": "markdown",
      "source": [
        "## 3.2 Find the best value for C using the CV\n",
        "Μολισ βρουμε το C τοτε ξανα υπολογιζουμε μια λογιστικη παλινδρόμηση βάζοντας το C = 0.1 με το χέρι."
      ],
      "metadata": {
        "id": "ZNdyDyiG3hQ0"
      }
    },
    {
      "cell_type": "code",
      "source": [
        "from sklearn.linear_model import LogisticRegressionCV\n",
        "from sklearn.model_selection import KFold\n",
        "\n",
        "kf=KFold(n_splits=3, random_state=0, shuffle=True)\n"
      ],
      "metadata": {
        "id": "ICn3kbxg4dcy"
      },
      "execution_count": 118,
      "outputs": []
    },
    {
      "cell_type": "code",
      "source": [
        "Log_reg3=LogisticRegressionCV(cv=kf ,random_state=15,Cs=C_list)\n",
        "#Log_reg3=LogisticRegressionCV(random_state=15,Cs=C_list)\n",
        "Log_reg3.fit(X_train,y_train)"
      ],
      "metadata": {
        "id": "6Ine1h3M6d-3"
      },
      "execution_count": null,
      "outputs": []
    },
    {
      "cell_type": "code",
      "source": [
        "Log_reg3.score(X_test,y_test)\n",
        "pred_proba=Log_reg3.predict_proba(X_test)\n",
        "Log_loss3=log_loss(y_test,pred_proba)\n",
        "Log_loss3\n",
        "Log_reg3.C_"
      ],
      "metadata": {
        "id": "F0_4RAza7HJ4"
      },
      "execution_count": null,
      "outputs": []
    },
    {
      "cell_type": "code",
      "source": [
        "\n",
        "model = LogisticRegression()\n",
        "\n",
        "# define the model evaluation procedure\n",
        "\n",
        "cv = RepeatedStratifiedKFold(n_splits=10, n_repeats=3, random_state=1)\n",
        "\n",
        "# evaluate the model and collect the scores\n",
        "\n",
        "n_scores = cross_val_score(model, X, y, scoring='accuracy', cv=cv, n_jobs=-1)\n",
        "\n",
        "# report the model performance\n",
        "\n",
        "print('Mean Accuracy: %.3f (%.3f)' % (mean(n_scores), std(n_scores)))"
      ],
      "metadata": {
        "id": "wC7hHCnYfVBB",
        "colab": {
          "base_uri": "https://localhost:8080/",
          "height": 0
        },
        "outputId": "049321d8-7a0d-4e7b-dad6-dcf73d9820cb"
      },
      "execution_count": 121,
      "outputs": [
        {
          "output_type": "stream",
          "name": "stdout",
          "text": [
            "Mean Accuracy: 0.693 (0.035)\n"
          ]
        }
      ]
    },
    {
      "cell_type": "code",
      "source": [
        "# get a list of models to evaluate\n",
        "def get_models():\n",
        "\tmodels = dict()\n",
        "\tfor p in [0.0, 0.0001, 0.001, 0.01, 0.1, 1.0]:\n",
        "\t\t# create name for model\n",
        "\t\tkey = '%.4f' % p\n",
        "\t\t# turn off penalty in some cases\n",
        "\t\tif p == 0.0:\n",
        "\t\t\t# no penalty in this case\n",
        "\t\t\tmodels[key] = LogisticRegression( penalty='none')\n",
        "\t\telse:\n",
        "\t\t\tmodels[key] = LogisticRegression( C=p, penalty='l2')\n",
        "\treturn models\n",
        " \n",
        "# evaluate a give model using cross-validation\n",
        "def evaluate_model(model, X, y):\n",
        "\t# define the evaluation procedure\n",
        "\tcv = RepeatedStratifiedKFold(n_splits=10, n_repeats=3, random_state=1)\n",
        "\t# evaluate the model\n",
        "\tscores = cross_val_score(model, X, y, scoring='accuracy', cv=cv, n_jobs=-1)\n",
        "\treturn scores\n",
        " \n",
        "# define dataset\n",
        "#X, y = get_dataset()\n",
        "# get the models to evaluate\n",
        "models = get_models()\n",
        "# evaluate the models and store results\n",
        "results, names = list(), list()\n",
        "for name, model in models.items():\n",
        "\t# evaluate the model and collect the scores\n",
        "\tscores = evaluate_model(model, X, y)\n",
        "\t# store the results\n",
        "\tresults.append(scores)\n",
        "\tnames.append(name)\n",
        "\t# summarize progress along the way\n",
        "\tprint('>%s %.3f (%.3f)' % (name, mean(scores), std(scores)))\n",
        "# plot model performance for comparison\n",
        "pyplot.boxplot(results, labels=names, showmeans=True)\n",
        "pyplot.show()"
      ],
      "metadata": {
        "id": "t0f3Vnnffn2b"
      },
      "execution_count": null,
      "outputs": []
    },
    {
      "cell_type": "markdown",
      "source": [
        "## Αυτο που μένει είναι να βάλουμε το hyperparameter που βρήκαμε στο μοντελο και να ξανα εκπαιδεύσουμε την λογιστίκη παλινδρόμηση με άλλο hyperparameter και αλλο threshold."
      ],
      "metadata": {
        "id": "gkBUdJXVgOHM"
      }
    },
    {
      "cell_type": "markdown",
      "source": [
        "## Multinomial regression"
      ],
      "metadata": {
        "id": "Gkiyll9Kf75T"
      }
    },
    {
      "cell_type": "markdown",
      "metadata": {
        "id": "0aI_R6xq9JjJ"
      },
      "source": [
        "Tune Penalty for Multinomial Logistic Regression\n",
        "An important hyperparameter to tune for multinomial logistic regression is the penalty term.\n",
        "\n",
        "This term imposes pressure on the model to seek smaller model weights. This is achieved by adding a weighted sum of the model coefficients to the loss function, encouraging the model to reduce the size of the weights along with the error while fitting the model.\n",
        "\n",
        "A popular type of penalty is the L2 penalty that adds the (weighted) sum of the squared coefficients to the loss function. A weighting of the coefficients can be used that reduces the strength of the penalty from full penalty to a very slight penalty.\n",
        "\n",
        "By default, the LogisticRegression class uses the L2 penalty with a weighting of coefficients set to 1.0. The type of penalty can be set via the “penalty” argument with values of “l1“, “l2“, “elasticnet” (e.g. both), although not all solvers support all penalty types. The weighting of the coefficients in the penalty can be set via the “C” argument.\n",
        "\n"
      ]
    },
    {
      "cell_type": "code",
      "execution_count": null,
      "metadata": {
        "colab": {
          "base_uri": "https://localhost:8080/"
        },
        "id": "0XBj795T9KcW",
        "outputId": "9fc20e4b-795e-4ef5-9f04-e78f8c15039b"
      },
      "outputs": [
        {
          "data": {
            "text/plain": [
              "LogisticRegression(multi_class='multinomial')"
            ]
          },
          "execution_count": 36,
          "metadata": {},
          "output_type": "execute_result"
        }
      ],
      "source": [
        "\n",
        "# define the multinomial logistic regression model with a default penalty\n",
        "LogisticRegression(multi_class='multinomial', solver='lbfgs', penalty='l2', C=1.0)"
      ]
    },
    {
      "cell_type": "markdown",
      "metadata": {
        "id": "H_nqLdb89kl8"
      },
      "source": [
        "C : float, default=1.0\n",
        "Inverse of regularization strength; must be a positive float. Like in support vector machines, smaller values specify stronger regularization.\n",
        "\n",
        "This means that values close to 1.0 indicate very little penalty and values close to zero indicate a strong penalty. A C value of 1.0 may indicate no penalty at all.\n",
        "\n",
        "C close to 1.0: Light penalty.\n",
        "C close to 0.0: Strong penalty."
      ]
    }
  ],
  "metadata": {
    "colab": {
      "collapsed_sections": [],
      "toc_visible": true,
      "provenance": []
    },
    "kernelspec": {
      "display_name": "Python 3",
      "name": "python3"
    },
    "language_info": {
      "name": "python"
    }
  },
  "nbformat": 4,
  "nbformat_minor": 0
}